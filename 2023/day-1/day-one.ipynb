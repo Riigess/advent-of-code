{
 "cells": [
  {
   "cell_type": "markdown",
   "metadata": {},
   "source": [
    "# Day 1 (Part One)\n",
    "Instead of crash landing somewhere this year, the elves need our help! Something happened to all the snow and we need to help them getting it to snow again. The built a trebuchet and are planning to launch you in it (don't ask me why, in fact they don't even want to respond to me asking questions), but they messed something up and lost the information needed to get you to where you need to go. Our job is to find that information. To help us understand what's going on, they've provided some information with examples.\n",
    "\n",
    "The first and last numbers in a line/set combined can be added together to get the data needed.\n",
    "\n",
    "Example data:\n",
    "| data | response |\n",
    "| --- | --- |\n",
    "| 1abc2 | 12 |\n",
    "| pqr3stu8vwx | 38 |\n",
    "| a1b2c3d4e5f | 15 |\n",
    "| treb7uchet | 77 |\n",
    "\n",
    "Wait, how did we get 77 from only 1x 7 in the line? Well, that's just part of the problem. Again, they told me to stop asking so many questions so I'm just going to assume that if there's only 1 instance of any number in that line then we're doing `int(f\"{left}{right}\")`.\n",
    "\n",
    "Anyways, let's get started."
   ]
  },
  {
   "cell_type": "code",
   "execution_count": null,
   "metadata": {},
   "outputs": [],
   "source": [
    "f = open('input.txt','r')\n",
    "data = f.read().split('\\n')\n",
    "f.close()"
   ]
  },
  {
   "cell_type": "markdown",
   "metadata": {},
   "source": [
    "## Initialize data\n",
    "We're setting up a running counter (total), the starting number (start), the last number in the line (end), and setting up a lookup list for values we need (that I know won't fail if we just check to see if they're integers...I could also use regex but I wanted to not have to do a bunch of Google searches to find out what I typed later - this was before I started making all of this jupyter notebooks)."
   ]
  },
  {
   "cell_type": "code",
   "execution_count": null,
   "metadata": {},
   "outputs": [],
   "source": [
    "total = 0\n",
    "start = -1\n",
    "end = 0\n",
    "numbs = ['1','2','3','4','5','6','7','8','9','0']\n"
   ]
  },
  {
   "cell_type": "markdown",
   "metadata": {},
   "source": [
    "## Iterating through data\n",
    "Starting off by iterating through each line of the file, we're trying to make sure there is content in the line we're checking against, and then trying to find a start & end point that corresponds to our given rules (above). After finding both values, then we're adding them to the total and moving on.\n",
    "\n",
    "As part of `treb7uchet` being `77` (mentioned above), every time we find a number, we're doing `end = int(c)` which is going to make sure that if there is only one number on a line, then it will also update end consistent with what was being looked for."
   ]
  },
  {
   "cell_type": "code",
   "execution_count": null,
   "metadata": {},
   "outputs": [],
   "source": [
    "for line in data:\n",
    "    if len(line) > 0:\n",
    "        for c in line:\n",
    "            if c in numbs:\n",
    "                if start == -1:\n",
    "                    start = int(c)\n",
    "                end = int(c)\n",
    "        val = int(f\"{start}{end}\")\n",
    "        total += val\n",
    "        start = -1\n",
    "        end = 0\n",
    "print(\"Total:\", total)"
   ]
  },
  {
   "cell_type": "markdown",
   "metadata": {},
   "source": [
    "# Day 1 (Part Two)\n",
    "After building an algorithm to obtain numbers out of a list of strings that correlate to calibration values from the elves, we just learned that they actually wrote down some numbers as words and we need to include that in our methodology for identifying "
   ]
  },
  {
   "cell_type": "code",
   "execution_count": null,
   "metadata": {},
   "outputs": [],
   "source": [
    "f = open('input.txt', 'r')\n",
    "data = f.read().split('\\n')\n",
    "f.close()"
   ]
  },
  {
   "cell_type": "markdown",
   "metadata": {},
   "source": [
    "## Numbs and setup\n",
    "We do need to set up a lookup table and a list of items... Realistically, this could be more easily done in fewer lines, but I did this on short notice and had to build the lookup table after building the initial list."
   ]
  },
  {
   "cell_type": "code",
   "execution_count": null,
   "metadata": {},
   "outputs": [],
   "source": [
    "numbs = ['1','2','3','4','5','6','7','8','9','0']\n",
    "numbs += ['one','two','three','four','five','six','seven','eight','nine','zero']\n",
    "numb_lookup = {\n",
    "    'one':1,\n",
    "    'two':2,\n",
    "    'three':3,\n",
    "    'four':4,\n",
    "    'five':5,\n",
    "    'six':6,\n",
    "    'seven':7,\n",
    "    'eight':8,\n",
    "    'nine':9,\n",
    "    'zero':0,\n",
    "    '1':1,\n",
    "    '2':2,\n",
    "    '3':3,\n",
    "    '4':4,\n",
    "    '5':5,\n",
    "    '6':6,\n",
    "    '7':7,\n",
    "    '8':8,\n",
    "    '9':9,\n",
    "    '0':0\n",
    "    }"
   ]
  },
  {
   "cell_type": "markdown",
   "metadata": {},
   "source": [
    "## Local Variable Initialization\n",
    "Here we are going to start building some local variables, but they do need to be initialized to a specific state first..."
   ]
  },
  {
   "cell_type": "code",
   "execution_count": 27,
   "metadata": {},
   "outputs": [],
   "source": [
    "start_idx = len(data[0])\n",
    "end_idx = 0\n",
    "start = -1\n",
    "end = -1\n",
    "total = 0"
   ]
  },
  {
   "cell_type": "markdown",
   "metadata": {},
   "source": [
    "## Iterating to find numbers\n",
    "Here we're going to have to iterate through our set of data (filtering for empty lines from the text file - since they always end with a '\\n'), and resetting our existing variables as they show up. As we iterate through each line, the easiest thing to do programmatically is to start search through our lookup data we setup earlier. What we're looking for here is a start index, an end index, and storing the integer data for what we found (that's where the lookup dictionary helps us out).\n",
    "\n",
    "After finding the start and end indexes, we need to make sure that `if end is -1 { set end equal to start }` so it follows our bounds example given `treb7uchet` returning `77`."
   ]
  },
  {
   "cell_type": "code",
   "execution_count": 29,
   "metadata": {},
   "outputs": [
    {
     "name": "stdout",
     "output_type": "stream",
     "text": [
      "Total: 108156\n"
     ]
    }
   ],
   "source": [
    "for line in data:\n",
    "    if len(line) > 0:\n",
    "        start = -1\n",
    "        end = -1\n",
    "        end_idx = 0\n",
    "        start_idx = len(line)\n",
    "        for numb in numbs:\n",
    "            if line.find(numb) == -1:\n",
    "                continue\n",
    "            if line.find(numb) < start_idx:\n",
    "                start_idx = line.find(numb)\n",
    "                start = numb_lookup[numb]\n",
    "            if line.rfind(numb) > end_idx:\n",
    "                end_idx = line.rfind(numb)\n",
    "                end = numb_lookup[numb]\n",
    "        if end == -1:\n",
    "            end = start\n",
    "        total += int(f\"{start}{end}\")\n",
    "\n",
    "print(\"Total:\", total)"
   ]
  }
 ],
 "metadata": {
  "kernelspec": {
   "display_name": "Python 3",
   "language": "python",
   "name": "python3"
  },
  "language_info": {
   "codemirror_mode": {
    "name": "ipython",
    "version": 3
   },
   "file_extension": ".py",
   "mimetype": "text/x-python",
   "name": "python",
   "nbconvert_exporter": "python",
   "pygments_lexer": "ipython3",
   "version": "3.9.6"
  }
 },
 "nbformat": 4,
 "nbformat_minor": 2
}
