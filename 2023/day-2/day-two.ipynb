{
 "cells": [
  {
   "cell_type": "markdown",
   "metadata": {},
   "source": [
    "# Day 2\n",
    "You landed at Snow Island, and it lacks snow this year. You meet an Elf who is in a rush to get you back to the rest of the team. As you walk, the two of you keep playing a game where they get some cubes out of a bag and you count the cubes before they return them to the bag - doing this 3 times in order to total that as a singular game.\n",
    "\n",
    "Example data;\n",
    "| Game # | Round 1 | Round 2 | Round 3 |\n",
    "| --- | --- | --- | --- |\n",
    "| Game 1 | 3 blue, 4 red | 1 red, 2 green, 6 blue | 2 green |\n",
    "| Game 2 | 1 blue, 2 green | 2 green, 4 blue, 1 red | 1 green, 1 blue |\n",
    "| Game 3 | 8 green, 6 blue, 20 red | 5 blue, 4 red, 13 green | 5 green, 1 red |\n",
    "| Game 4 | 1 green, 3 red, 6 blue | 3 green, 6 red | 3 green, 15 blue, 14 red |\n",
    "| Game 5 | 6 red, 1 blue, 3 green | 2 blue, 1 red, 2 green | |\n",
    "\n",
    "Elf would like to know which games would have been possible if the bag contained **only 12 red cubes, 13 green cubes and 14 blue cubes**."
   ]
  },
  {
   "cell_type": "markdown",
   "metadata": {},
   "source": [
    "## Sample Data\n",
    "Reading in data using either the data variable - which contains some sample data provided by the prompt - or by reading the input file for this challenge. This is going to be our program's entry point to figuring out what's going on."
   ]
  },
  {
   "cell_type": "code",
   "execution_count": 7,
   "metadata": {},
   "outputs": [
    {
     "name": "stdout",
     "output_type": "stream",
     "text": [
      "Total: 1734\n",
      "[2, 3, 5, 8, 9, 11, 17, 18, 19, 21, 23, 24, 25, 26, 27, 28, 30, 32, 35, 36, 37, 41, 46, 49, 57, 58, 61, 62, 63, 66, 68, 69, 71, 72, 76, 80, 83, 85, 94, 97]\n"
     ]
    }
   ],
   "source": [
    "# data = [\n",
    "#     \"Game 1: 3 blue, 4 red; 1 red, 2 green, 6 blue; 2 green\",\n",
    "#     \"Game 2: 1 blue, 2 green; 3 green, 4 blue, 1 red; 1 green, 1 blue\",\n",
    "#     \"Game 3: 8 green, 6 blue, 20 red; 5 blue, 4 red, 13 green; 5 green, 1 red\",\n",
    "#     \"Game 4: 1 green, 3 red, 6 blue; 3 green, 6 red; 3 green, 15 blue, 14 red\",\n",
    "#     \"Game 5: 6 red, 1 blue, 3 green; 2 blue, 1 red, 2 green\"\n",
    "# ]\n",
    "\n",
    "f = open('input.txt','r')\n",
    "data = f.read().split('\\n')\n",
    "f.close()\n",
    "if len(data[-1]) == 0:\n",
    "    del data[-1]\n"
   ]
  },
  {
   "cell_type": "markdown",
   "metadata": {},
   "source": [
    "## Iterate\n",
    "Now that we've parsed our sample data, we will need to iterate through each game (line) from our `data` variable. During this process, we will have to seperate each iteration out to each round, and during each round we will need to obtain the number for each available ball in each round. After determining how many balls are in each round, we do need to check to see if that round is considered \"possible\" given there should only be `12 red cubes, 13 green cubes, and 14 blue cubes` in the bag. This elf has a little extra magic in this bag so there may be additional cubes coming out of the bag than anticipated.\n",
    "\n",
    "After getting all of the available cubes, and checking to see if each round is possible, for each possible game round we are going to want to add up to the total number possible games (ex in our sample data above, games 1, 2, and 5 would all be possible. Thus totaling up to 8 points.)"
   ]
  },
  {
   "cell_type": "code",
   "execution_count": null,
   "metadata": {},
   "outputs": [],
   "source": [
    "\n",
    "possible = []\n",
    "total = 0\n",
    "for game in data:\n",
    "    rounds = game.split(': ')[1].split('; ')\n",
    "    is_possible = True\n",
    "    for round in rounds:\n",
    "        pieces = round.split(', ')\n",
    "        blue = 0\n",
    "        red = 0\n",
    "        green = 0\n",
    "        for piece in pieces:\n",
    "            if 'red' in piece:\n",
    "                red = int(piece.split(' ')[0])\n",
    "            if 'blue' in piece:\n",
    "                blue = int(piece.split(' ')[0])\n",
    "            if 'green' in piece:\n",
    "                green = int(piece.split(' ')[0])\n",
    "        if red > 12 or green > 13 or blue > 14:\n",
    "            is_possible = False\n",
    "    if is_possible:\n",
    "        game_round_numb = int(game.split(': ')[0].split(' ')[1])\n",
    "        possible.append(game_round_numb)\n",
    "        total += game_round_numb\n",
    "\n",
    "print(\"Total:\", total)\n",
    "print(possible)"
   ]
  },
  {
   "cell_type": "markdown",
   "metadata": {},
   "source": [
    "# Day 2 (Part Two)\n",
    "It seems the elves aren't getting any water to produce snow from. As we walk to check the water source, the elf asks a second question - in each game, what is the fewest number of cubes of each color that could have been in the bag to make the game possible?\n",
    "\n",
    "Considering the example games from earlier, we're given some example information;\n",
    "```\n",
    "- In game 1, the game could have been played with as few as 4 red, 2 green, and 6 blue cubes. If any color had even one fewer cube, the game would have been impossible.\n",
    "- Game 2, could have been played with a minimum 1 red, 3 green, and 4 blue cubes.\n",
    "- Game 3 must have been played with at least 20 red, 13 green, and 6 blue cubes.\n",
    "- Game 4 required at least 14 red, 3 green, and 15 blue cubes.\n",
    "- Game 5 neede dno fewer than 6 red, 3 green, and 2 blue cubes\n",
    "```\n",
    "\n",
    "Citing what we will have to calculate here, the prompt from AoC states;\n",
    "```\n",
    "The power of a set of cubes is equal to the numbers of red, green, and blue cubes multiplied together. The power of the minium set of cubes in game 1 is 48. In games 2-5 it was 12, 1560, 630, and 36, respectively. Adding up these five powers produces the sum 2286.\n",
    "```\n",
    "\n",
    "To dive in a little for game 1, `4 * 2 * 8 = 48` and the 48 from that equation is the power of those cubes. Adding up the powers from each round of minimum set, you get 2286."
   ]
  },
  {
   "cell_type": "code",
   "execution_count": 11,
   "metadata": {},
   "outputs": [],
   "source": [
    "# data = [\n",
    "#     \"Game 1: 3 blue, 4 red; 1 red, 2 green, 6 blue; 2 green\",\n",
    "#     \"Game 2: 1 blue, 2 green; 3 green, 4 blue, 1 red; 1 green, 1 blue\",\n",
    "#     \"Game 3: 8 green, 6 blue, 20 red; 5 blue, 4 red, 13 green; 5 green, 1 red\",\n",
    "#     \"Game 4: 1 green, 3 red, 6 blue; 3 green, 6 red; 3 green, 15 blue, 14 red\",\n",
    "#     \"Game 5: 6 red, 1 blue, 3 green; 2 blue, 1 red, 2 green\"\n",
    "# ]\n",
    "\n",
    "f = open('input.txt','r')\n",
    "data = f.read().split('\\n')\n",
    "f.close()\n",
    "if len(data[-1]) == 0:\n",
    "    del data[-1]"
   ]
  },
  {
   "cell_type": "code",
   "execution_count": 12,
   "metadata": {},
   "outputs": [
    {
     "name": "stdout",
     "output_type": "stream",
     "text": [
      "Total: 70387\n"
     ]
    }
   ],
   "source": [
    "total = 0\n",
    "for game in data:\n",
    "    rounds = game.split(': ')[1].split(\"; \")\n",
    "    game_red_min = 0\n",
    "    game_green_min = 0\n",
    "    game_blue_min = 0\n",
    "    for round in rounds:\n",
    "        pieces = round.split(', ')\n",
    "        for piece in pieces:\n",
    "            if 'red' in piece:\n",
    "                if int(piece.split(' ')[0]) > game_red_min:\n",
    "                    game_red_min = int(piece.split(' ')[0])\n",
    "            if 'blue' in piece:\n",
    "                if int(piece.split(' ')[0]) > game_blue_min:\n",
    "                    game_blue_min = int(piece.split(' ')[0])\n",
    "            if 'green' in piece:\n",
    "                if int(piece.split(' ')[0]) > game_green_min:\n",
    "                    game_green_min = int(piece.split(' ')[0])\n",
    "    total += game_red_min * game_blue_min * game_green_min\n",
    "print(\"Total:\", total)\n",
    "            "
   ]
  }
 ],
 "metadata": {
  "kernelspec": {
   "display_name": "Python 3",
   "language": "python",
   "name": "python3"
  },
  "language_info": {
   "codemirror_mode": {
    "name": "ipython",
    "version": 3
   },
   "file_extension": ".py",
   "mimetype": "text/x-python",
   "name": "python",
   "nbconvert_exporter": "python",
   "pygments_lexer": "ipython3",
   "version": "3.9.6"
  }
 },
 "nbformat": 4,
 "nbformat_minor": 2
}
